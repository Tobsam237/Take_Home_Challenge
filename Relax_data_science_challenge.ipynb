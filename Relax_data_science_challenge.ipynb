{
  "nbformat": 4,
  "nbformat_minor": 0,
  "metadata": {
    "colab": {
      "name": "Relax_data_science_challenge.ipynb",
      "provenance": [],
      "authorship_tag": "ABX9TyM67qd1g5b/j0ukH9/+J0X6",
      "include_colab_link": true
    },
    "kernelspec": {
      "name": "python3",
      "display_name": "Python 3"
    },
    "language_info": {
      "name": "python"
    }
  },
  "cells": [
    {
      "cell_type": "markdown",
      "metadata": {
        "id": "view-in-github",
        "colab_type": "text"
      },
      "source": [
        "<a href=\"https://colab.research.google.com/github/Tobsam237/Take_Home_Challenge/blob/main/Relax_data_science_challenge.ipynb\" target=\"_parent\"><img src=\"https://colab.research.google.com/assets/colab-badge.svg\" alt=\"Open In Colab\"/></a>"
      ]
    },
    {
      "cell_type": "markdown",
      "metadata": {
        "id": "v-n--xFf8xen"
      },
      "source": [
        "#**Relax Data Science Challenge**\n",
        "Ultimate Technologies Inc. is a transportation network company that has disrupted the taxi and logistics industry and is considered a prestigious company to work for. This challenge has been adapted from an actual Ultimate Inc. data science challenge.\n",
        "\n",
        "Defining an \"adopted user\" as a user who has logged into the product on three separate\n",
        "days in at least one sevenday\n",
        "period , identify which factors predict future user\n",
        "adoption ."
      ]
    },
    {
      "cell_type": "code",
      "metadata": {
        "id": "YDnIQMHQxauP"
      },
      "source": [
        "#import basic packages\n",
        "\n",
        "import pandas as pd\n",
        "import numpy as np\n",
        "import seaborn as sns\n",
        "import matplotlib.pyplot as plt\n",
        "from google.colab import files\n",
        "\n",
        "#data = files.upload()"
      ],
      "execution_count": 4,
      "outputs": []
    },
    {
      "cell_type": "code",
      "metadata": {
        "colab": {
          "base_uri": "https://localhost:8080/",
          "height": 221
        },
        "id": "w5CNvm1R03wy",
        "outputId": "00be625c-4a51-4683-940d-568cef5e3a80"
      },
      "source": [
        "#import data \n",
        "df = pd.read_csv('takehome_user_engagement.csv')\n",
        "df2 = pd.read_csv('takehome_users.csv', encoding ='ISO-8859-1')\n",
        "print(df.shape)\n",
        "\n",
        "df.head(5)"
      ],
      "execution_count": 5,
      "outputs": [
        {
          "output_type": "stream",
          "text": [
            "(207917, 3)\n"
          ],
          "name": "stdout"
        },
        {
          "output_type": "execute_result",
          "data": {
            "text/html": [
              "<div>\n",
              "<style scoped>\n",
              "    .dataframe tbody tr th:only-of-type {\n",
              "        vertical-align: middle;\n",
              "    }\n",
              "\n",
              "    .dataframe tbody tr th {\n",
              "        vertical-align: top;\n",
              "    }\n",
              "\n",
              "    .dataframe thead th {\n",
              "        text-align: right;\n",
              "    }\n",
              "</style>\n",
              "<table border=\"1\" class=\"dataframe\">\n",
              "  <thead>\n",
              "    <tr style=\"text-align: right;\">\n",
              "      <th></th>\n",
              "      <th>time_stamp</th>\n",
              "      <th>user_id</th>\n",
              "      <th>visited</th>\n",
              "    </tr>\n",
              "  </thead>\n",
              "  <tbody>\n",
              "    <tr>\n",
              "      <th>0</th>\n",
              "      <td>2014-04-22 03:53:30</td>\n",
              "      <td>1</td>\n",
              "      <td>1</td>\n",
              "    </tr>\n",
              "    <tr>\n",
              "      <th>1</th>\n",
              "      <td>2013-11-15 03:45:04</td>\n",
              "      <td>2</td>\n",
              "      <td>1</td>\n",
              "    </tr>\n",
              "    <tr>\n",
              "      <th>2</th>\n",
              "      <td>2013-11-29 03:45:04</td>\n",
              "      <td>2</td>\n",
              "      <td>1</td>\n",
              "    </tr>\n",
              "    <tr>\n",
              "      <th>3</th>\n",
              "      <td>2013-12-09 03:45:04</td>\n",
              "      <td>2</td>\n",
              "      <td>1</td>\n",
              "    </tr>\n",
              "    <tr>\n",
              "      <th>4</th>\n",
              "      <td>2013-12-25 03:45:04</td>\n",
              "      <td>2</td>\n",
              "      <td>1</td>\n",
              "    </tr>\n",
              "  </tbody>\n",
              "</table>\n",
              "</div>"
            ],
            "text/plain": [
              "            time_stamp  user_id  visited\n",
              "0  2014-04-22 03:53:30        1        1\n",
              "1  2013-11-15 03:45:04        2        1\n",
              "2  2013-11-29 03:45:04        2        1\n",
              "3  2013-12-09 03:45:04        2        1\n",
              "4  2013-12-25 03:45:04        2        1"
            ]
          },
          "metadata": {
            "tags": []
          },
          "execution_count": 5
        }
      ]
    },
    {
      "cell_type": "code",
      "metadata": {
        "colab": {
          "base_uri": "https://localhost:8080/"
        },
        "id": "A7iKOhJufLTI",
        "outputId": "6357a954-4eca-4cff-9620-29bc55fbd4f1"
      },
      "source": [
        "#how many users logged into the product?\n",
        "df.user_id.nunique()"
      ],
      "execution_count": 6,
      "outputs": [
        {
          "output_type": "execute_result",
          "data": {
            "text/plain": [
              "8823"
            ]
          },
          "metadata": {
            "tags": []
          },
          "execution_count": 6
        }
      ]
    },
    {
      "cell_type": "code",
      "metadata": {
        "id": "aj9njDZFStvC"
      },
      "source": [
        "#Convert dt to datetime format\n",
        "#lets define adopted user: logged in on 3 seperate days in at leasst one seven day period\n",
        "df['time_stamp'] = pd.to_datetime(df['time_stamp'])\n",
        "df['time_stamp'] = df['time_stamp'].dt.floor('d').astype(np.int64)\n",
        "df = df.sort_values(['user_id', 'time_stamp'])"
      ],
      "execution_count": 7,
      "outputs": []
    },
    {
      "cell_type": "code",
      "metadata": {
        "id": "lYVN0HjLTtHX"
      },
      "source": [
        "a = df.groupby('user_id')['time_stamp'].rolling(window=3)\n",
        "b = pd.to_timedelta((a.max() - a.min())).dt.days\n",
        "c = b[b < 8].index.get_level_values('user_id').tolist()"
      ],
      "execution_count": 8,
      "outputs": []
    },
    {
      "cell_type": "code",
      "metadata": {
        "id": "cVo9CyUkVyoQ",
        "colab": {
          "base_uri": "https://localhost:8080/"
        },
        "outputId": "4c475310-953d-482e-fefb-16afc3b6d4a9"
      },
      "source": [
        "adopted_user = np.unique(c)\n",
        "len(adopted_user)"
      ],
      "execution_count": 9,
      "outputs": [
        {
          "output_type": "execute_result",
          "data": {
            "text/plain": [
              "1656"
            ]
          },
          "metadata": {
            "tags": []
          },
          "execution_count": 9
        }
      ]
    },
    {
      "cell_type": "markdown",
      "metadata": {
        "id": "gecidV1nlZ6F"
      },
      "source": [
        "Let's observe the adopted users in the *takehome_users* data \n",
        "\n",
        "##**Wrangling user data**"
      ]
    },
    {
      "cell_type": "code",
      "metadata": {
        "colab": {
          "base_uri": "https://localhost:8080/",
          "height": 221
        },
        "id": "WfxG_MmKiVIi",
        "outputId": "a166d7b5-5990-44c8-8dde-ba98667f95a7"
      },
      "source": [
        "print(df2.shape)\n",
        "df2.head()"
      ],
      "execution_count": 10,
      "outputs": [
        {
          "output_type": "stream",
          "text": [
            "(12000, 10)\n"
          ],
          "name": "stdout"
        },
        {
          "output_type": "execute_result",
          "data": {
            "text/html": [
              "<div>\n",
              "<style scoped>\n",
              "    .dataframe tbody tr th:only-of-type {\n",
              "        vertical-align: middle;\n",
              "    }\n",
              "\n",
              "    .dataframe tbody tr th {\n",
              "        vertical-align: top;\n",
              "    }\n",
              "\n",
              "    .dataframe thead th {\n",
              "        text-align: right;\n",
              "    }\n",
              "</style>\n",
              "<table border=\"1\" class=\"dataframe\">\n",
              "  <thead>\n",
              "    <tr style=\"text-align: right;\">\n",
              "      <th></th>\n",
              "      <th>object_id</th>\n",
              "      <th>creation_time</th>\n",
              "      <th>name</th>\n",
              "      <th>email</th>\n",
              "      <th>creation_source</th>\n",
              "      <th>last_session_creation_time</th>\n",
              "      <th>opted_in_to_mailing_list</th>\n",
              "      <th>enabled_for_marketing_drip</th>\n",
              "      <th>org_id</th>\n",
              "      <th>invited_by_user_id</th>\n",
              "    </tr>\n",
              "  </thead>\n",
              "  <tbody>\n",
              "    <tr>\n",
              "      <th>0</th>\n",
              "      <td>1</td>\n",
              "      <td>2014-04-22 03:53:30</td>\n",
              "      <td>Clausen August</td>\n",
              "      <td>AugustCClausen@yahoo.com</td>\n",
              "      <td>GUEST_INVITE</td>\n",
              "      <td>1.398139e+09</td>\n",
              "      <td>1</td>\n",
              "      <td>0</td>\n",
              "      <td>11</td>\n",
              "      <td>10803.0</td>\n",
              "    </tr>\n",
              "    <tr>\n",
              "      <th>1</th>\n",
              "      <td>2</td>\n",
              "      <td>2013-11-15 03:45:04</td>\n",
              "      <td>Poole Matthew</td>\n",
              "      <td>MatthewPoole@gustr.com</td>\n",
              "      <td>ORG_INVITE</td>\n",
              "      <td>1.396238e+09</td>\n",
              "      <td>0</td>\n",
              "      <td>0</td>\n",
              "      <td>1</td>\n",
              "      <td>316.0</td>\n",
              "    </tr>\n",
              "    <tr>\n",
              "      <th>2</th>\n",
              "      <td>3</td>\n",
              "      <td>2013-03-19 23:14:52</td>\n",
              "      <td>Bottrill Mitchell</td>\n",
              "      <td>MitchellBottrill@gustr.com</td>\n",
              "      <td>ORG_INVITE</td>\n",
              "      <td>1.363735e+09</td>\n",
              "      <td>0</td>\n",
              "      <td>0</td>\n",
              "      <td>94</td>\n",
              "      <td>1525.0</td>\n",
              "    </tr>\n",
              "    <tr>\n",
              "      <th>3</th>\n",
              "      <td>4</td>\n",
              "      <td>2013-05-21 08:09:28</td>\n",
              "      <td>Clausen Nicklas</td>\n",
              "      <td>NicklasSClausen@yahoo.com</td>\n",
              "      <td>GUEST_INVITE</td>\n",
              "      <td>1.369210e+09</td>\n",
              "      <td>0</td>\n",
              "      <td>0</td>\n",
              "      <td>1</td>\n",
              "      <td>5151.0</td>\n",
              "    </tr>\n",
              "    <tr>\n",
              "      <th>4</th>\n",
              "      <td>5</td>\n",
              "      <td>2013-01-17 10:14:20</td>\n",
              "      <td>Raw Grace</td>\n",
              "      <td>GraceRaw@yahoo.com</td>\n",
              "      <td>GUEST_INVITE</td>\n",
              "      <td>1.358850e+09</td>\n",
              "      <td>0</td>\n",
              "      <td>0</td>\n",
              "      <td>193</td>\n",
              "      <td>5240.0</td>\n",
              "    </tr>\n",
              "  </tbody>\n",
              "</table>\n",
              "</div>"
            ],
            "text/plain": [
              "   object_id        creation_time  ... org_id invited_by_user_id\n",
              "0          1  2014-04-22 03:53:30  ...     11            10803.0\n",
              "1          2  2013-11-15 03:45:04  ...      1              316.0\n",
              "2          3  2013-03-19 23:14:52  ...     94             1525.0\n",
              "3          4  2013-05-21 08:09:28  ...      1             5151.0\n",
              "4          5  2013-01-17 10:14:20  ...    193             5240.0\n",
              "\n",
              "[5 rows x 10 columns]"
            ]
          },
          "metadata": {
            "tags": []
          },
          "execution_count": 10
        }
      ]
    },
    {
      "cell_type": "code",
      "metadata": {
        "colab": {
          "base_uri": "https://localhost:8080/",
          "height": 192
        },
        "id": "U6WUCgLyXUdZ",
        "outputId": "81785f86-4790-49fa-8d2d-3ffce8cc94ae"
      },
      "source": [
        "#lets add a column on user data to depict adopted == 1 and non-adopted == 0\n",
        "df2['adopted'] = df2['object_id'].isin(adopted_user).astype(int)\n",
        "df2.head(3)"
      ],
      "execution_count": 11,
      "outputs": [
        {
          "output_type": "execute_result",
          "data": {
            "text/html": [
              "<div>\n",
              "<style scoped>\n",
              "    .dataframe tbody tr th:only-of-type {\n",
              "        vertical-align: middle;\n",
              "    }\n",
              "\n",
              "    .dataframe tbody tr th {\n",
              "        vertical-align: top;\n",
              "    }\n",
              "\n",
              "    .dataframe thead th {\n",
              "        text-align: right;\n",
              "    }\n",
              "</style>\n",
              "<table border=\"1\" class=\"dataframe\">\n",
              "  <thead>\n",
              "    <tr style=\"text-align: right;\">\n",
              "      <th></th>\n",
              "      <th>object_id</th>\n",
              "      <th>creation_time</th>\n",
              "      <th>name</th>\n",
              "      <th>email</th>\n",
              "      <th>creation_source</th>\n",
              "      <th>last_session_creation_time</th>\n",
              "      <th>opted_in_to_mailing_list</th>\n",
              "      <th>enabled_for_marketing_drip</th>\n",
              "      <th>org_id</th>\n",
              "      <th>invited_by_user_id</th>\n",
              "      <th>adopted</th>\n",
              "    </tr>\n",
              "  </thead>\n",
              "  <tbody>\n",
              "    <tr>\n",
              "      <th>0</th>\n",
              "      <td>1</td>\n",
              "      <td>2014-04-22 03:53:30</td>\n",
              "      <td>Clausen August</td>\n",
              "      <td>AugustCClausen@yahoo.com</td>\n",
              "      <td>GUEST_INVITE</td>\n",
              "      <td>1.398139e+09</td>\n",
              "      <td>1</td>\n",
              "      <td>0</td>\n",
              "      <td>11</td>\n",
              "      <td>10803.0</td>\n",
              "      <td>0</td>\n",
              "    </tr>\n",
              "    <tr>\n",
              "      <th>1</th>\n",
              "      <td>2</td>\n",
              "      <td>2013-11-15 03:45:04</td>\n",
              "      <td>Poole Matthew</td>\n",
              "      <td>MatthewPoole@gustr.com</td>\n",
              "      <td>ORG_INVITE</td>\n",
              "      <td>1.396238e+09</td>\n",
              "      <td>0</td>\n",
              "      <td>0</td>\n",
              "      <td>1</td>\n",
              "      <td>316.0</td>\n",
              "      <td>1</td>\n",
              "    </tr>\n",
              "    <tr>\n",
              "      <th>2</th>\n",
              "      <td>3</td>\n",
              "      <td>2013-03-19 23:14:52</td>\n",
              "      <td>Bottrill Mitchell</td>\n",
              "      <td>MitchellBottrill@gustr.com</td>\n",
              "      <td>ORG_INVITE</td>\n",
              "      <td>1.363735e+09</td>\n",
              "      <td>0</td>\n",
              "      <td>0</td>\n",
              "      <td>94</td>\n",
              "      <td>1525.0</td>\n",
              "      <td>0</td>\n",
              "    </tr>\n",
              "  </tbody>\n",
              "</table>\n",
              "</div>"
            ],
            "text/plain": [
              "   object_id        creation_time  ... invited_by_user_id adopted\n",
              "0          1  2014-04-22 03:53:30  ...            10803.0       0\n",
              "1          2  2013-11-15 03:45:04  ...              316.0       1\n",
              "2          3  2013-03-19 23:14:52  ...             1525.0       0\n",
              "\n",
              "[3 rows x 11 columns]"
            ]
          },
          "metadata": {
            "tags": []
          },
          "execution_count": 11
        }
      ]
    },
    {
      "cell_type": "code",
      "metadata": {
        "colab": {
          "base_uri": "https://localhost:8080/"
        },
        "id": "2-JEvyOQbR_0",
        "outputId": "84f054cb-ea59-41ef-b244-1aff613e832e"
      },
      "source": [
        "#observe the different dtypes in data above?\n",
        "# let's take a deeper look and convert to python workable dtypes\n",
        "df2.info()"
      ],
      "execution_count": 12,
      "outputs": [
        {
          "output_type": "stream",
          "text": [
            "<class 'pandas.core.frame.DataFrame'>\n",
            "RangeIndex: 12000 entries, 0 to 11999\n",
            "Data columns (total 11 columns):\n",
            " #   Column                      Non-Null Count  Dtype  \n",
            "---  ------                      --------------  -----  \n",
            " 0   object_id                   12000 non-null  int64  \n",
            " 1   creation_time               12000 non-null  object \n",
            " 2   name                        12000 non-null  object \n",
            " 3   email                       12000 non-null  object \n",
            " 4   creation_source             12000 non-null  object \n",
            " 5   last_session_creation_time  8823 non-null   float64\n",
            " 6   opted_in_to_mailing_list    12000 non-null  int64  \n",
            " 7   enabled_for_marketing_drip  12000 non-null  int64  \n",
            " 8   org_id                      12000 non-null  int64  \n",
            " 9   invited_by_user_id          6417 non-null   float64\n",
            " 10  adopted                     12000 non-null  int64  \n",
            "dtypes: float64(2), int64(5), object(4)\n",
            "memory usage: 1.0+ MB\n"
          ],
          "name": "stdout"
        }
      ]
    },
    {
      "cell_type": "code",
      "metadata": {
        "id": "9Q2pQJcmbRzT"
      },
      "source": [
        "df2['creation_time'] = pd.to_datetime(df2['creation_time'])\n",
        "df2['last_session_creation_time'] = pd.to_datetime(df2['last_session_creation_time'], unit='s').apply(lambda x: x.to_datetime64())"
      ],
      "execution_count": 13,
      "outputs": []
    },
    {
      "cell_type": "markdown",
      "metadata": {
        "id": "va5yDUXxCI6n"
      },
      "source": [
        "Let's create a new column depicting history in days of user on app"
      ]
    },
    {
      "cell_type": "code",
      "metadata": {
        "colab": {
          "base_uri": "https://localhost:8080/"
        },
        "id": "yCrDy6J8iVFN",
        "outputId": "764f5c2e-92ac-4a91-c2c7-1a6822156d39"
      },
      "source": [
        "#check for null values per feature\n",
        "df2.isna().sum()"
      ],
      "execution_count": 14,
      "outputs": [
        {
          "output_type": "execute_result",
          "data": {
            "text/plain": [
              "object_id                        0\n",
              "creation_time                    0\n",
              "name                             0\n",
              "email                            0\n",
              "creation_source                  0\n",
              "last_session_creation_time    3177\n",
              "opted_in_to_mailing_list         0\n",
              "enabled_for_marketing_drip       0\n",
              "org_id                           0\n",
              "invited_by_user_id            5583\n",
              "adopted                          0\n",
              "dtype: int64"
            ]
          },
          "metadata": {
            "tags": []
          },
          "execution_count": 14
        }
      ]
    },
    {
      "cell_type": "code",
      "metadata": {
        "colab": {
          "base_uri": "https://localhost:8080/"
        },
        "id": "PNXdzlIniVDa",
        "outputId": "97c62a25-c111-4e89-ec84-f04a342507e8"
      },
      "source": [
        "#check for null vlaues on adopted users\n",
        "df2[df2['object_id'].isin(adopted_user)].isna().sum()"
      ],
      "execution_count": 15,
      "outputs": [
        {
          "output_type": "execute_result",
          "data": {
            "text/plain": [
              "object_id                       0\n",
              "creation_time                   0\n",
              "name                            0\n",
              "email                           0\n",
              "creation_source                 0\n",
              "last_session_creation_time      0\n",
              "opted_in_to_mailing_list        0\n",
              "enabled_for_marketing_drip      0\n",
              "org_id                          0\n",
              "invited_by_user_id            713\n",
              "adopted                         0\n",
              "dtype: int64"
            ]
          },
          "metadata": {
            "tags": []
          },
          "execution_count": 15
        }
      ]
    },
    {
      "cell_type": "markdown",
      "metadata": {
        "id": "rZXFMDW8SVsf"
      },
      "source": [
        "8823 users logged in out of 12000 dintinct users. Thus, 3177 users created an account but never logged in.\n",
        "<br>\n",
        "<br>\n",
        "Let's drop off users with no 'last_session_creation_time', because we not sure of the last logged in date actually not due to missing data but, there was actually no last creation time and won't reduce or affect negatively our target feature"
      ]
    },
    {
      "cell_type": "code",
      "metadata": {
        "id": "bNHvx-usmv_X"
      },
      "source": [
        "#We assume that some users were not invited by no users. So we give a value of 0 to null values of 'invited_by_user_id' col\n",
        "df2['invited_by_user_id']= df2['invited_by_user_id'].fillna(0)\n",
        "\n",
        "#drop the remaining nas\n",
        "df2 = df2.dropna()"
      ],
      "execution_count": 16,
      "outputs": []
    },
    {
      "cell_type": "code",
      "metadata": {
        "colab": {
          "base_uri": "https://localhost:8080/",
          "height": 212
        },
        "id": "dMurTDRvr3LY",
        "outputId": "d47aec6e-13a7-467e-f523-cb3802d501d7"
      },
      "source": [
        "df2['history'] = (df2['last_session_creation_time'] - df2['creation_time']).dt.days\n",
        "df2.head(3)"
      ],
      "execution_count": 17,
      "outputs": [
        {
          "output_type": "execute_result",
          "data": {
            "text/html": [
              "<div>\n",
              "<style scoped>\n",
              "    .dataframe tbody tr th:only-of-type {\n",
              "        vertical-align: middle;\n",
              "    }\n",
              "\n",
              "    .dataframe tbody tr th {\n",
              "        vertical-align: top;\n",
              "    }\n",
              "\n",
              "    .dataframe thead th {\n",
              "        text-align: right;\n",
              "    }\n",
              "</style>\n",
              "<table border=\"1\" class=\"dataframe\">\n",
              "  <thead>\n",
              "    <tr style=\"text-align: right;\">\n",
              "      <th></th>\n",
              "      <th>object_id</th>\n",
              "      <th>creation_time</th>\n",
              "      <th>name</th>\n",
              "      <th>email</th>\n",
              "      <th>creation_source</th>\n",
              "      <th>last_session_creation_time</th>\n",
              "      <th>opted_in_to_mailing_list</th>\n",
              "      <th>enabled_for_marketing_drip</th>\n",
              "      <th>org_id</th>\n",
              "      <th>invited_by_user_id</th>\n",
              "      <th>adopted</th>\n",
              "      <th>history</th>\n",
              "    </tr>\n",
              "  </thead>\n",
              "  <tbody>\n",
              "    <tr>\n",
              "      <th>0</th>\n",
              "      <td>1</td>\n",
              "      <td>2014-04-22 03:53:30</td>\n",
              "      <td>Clausen August</td>\n",
              "      <td>AugustCClausen@yahoo.com</td>\n",
              "      <td>GUEST_INVITE</td>\n",
              "      <td>2014-04-22 03:53:30</td>\n",
              "      <td>1</td>\n",
              "      <td>0</td>\n",
              "      <td>11</td>\n",
              "      <td>10803.0</td>\n",
              "      <td>0</td>\n",
              "      <td>0</td>\n",
              "    </tr>\n",
              "    <tr>\n",
              "      <th>1</th>\n",
              "      <td>2</td>\n",
              "      <td>2013-11-15 03:45:04</td>\n",
              "      <td>Poole Matthew</td>\n",
              "      <td>MatthewPoole@gustr.com</td>\n",
              "      <td>ORG_INVITE</td>\n",
              "      <td>2014-03-31 03:45:04</td>\n",
              "      <td>0</td>\n",
              "      <td>0</td>\n",
              "      <td>1</td>\n",
              "      <td>316.0</td>\n",
              "      <td>1</td>\n",
              "      <td>136</td>\n",
              "    </tr>\n",
              "    <tr>\n",
              "      <th>2</th>\n",
              "      <td>3</td>\n",
              "      <td>2013-03-19 23:14:52</td>\n",
              "      <td>Bottrill Mitchell</td>\n",
              "      <td>MitchellBottrill@gustr.com</td>\n",
              "      <td>ORG_INVITE</td>\n",
              "      <td>2013-03-19 23:14:52</td>\n",
              "      <td>0</td>\n",
              "      <td>0</td>\n",
              "      <td>94</td>\n",
              "      <td>1525.0</td>\n",
              "      <td>0</td>\n",
              "      <td>0</td>\n",
              "    </tr>\n",
              "  </tbody>\n",
              "</table>\n",
              "</div>"
            ],
            "text/plain": [
              "   object_id       creation_time  ... adopted history\n",
              "0          1 2014-04-22 03:53:30  ...       0       0\n",
              "1          2 2013-11-15 03:45:04  ...       1     136\n",
              "2          3 2013-03-19 23:14:52  ...       0       0\n",
              "\n",
              "[3 rows x 12 columns]"
            ]
          },
          "metadata": {
            "tags": []
          },
          "execution_count": 17
        }
      ]
    },
    {
      "cell_type": "code",
      "metadata": {
        "id": "NdiO7Cwzr3Ip"
      },
      "source": [
        "d_cleaned = df2.drop(['creation_time', 'name', 'email', 'last_session_creation_time', ], axis=1)"
      ],
      "execution_count": 18,
      "outputs": []
    },
    {
      "cell_type": "markdown",
      "metadata": {
        "id": "pYpbygzBteBL"
      },
      "source": [
        "##**Exploratory Data Analysis**\n",
        "\n",
        "Let's explore individual features with respect to our target variable"
      ]
    },
    {
      "cell_type": "code",
      "metadata": {
        "colab": {
          "base_uri": "https://localhost:8080/"
        },
        "id": "eXzSJrRRr3F_",
        "outputId": "20f727f4-c986-4c21-f8c4-7d53526057a8"
      },
      "source": [
        "#Observe number of users who logged in at least once\n",
        "np.sum(d_cleaned['history'] > 0)"
      ],
      "execution_count": 19,
      "outputs": [
        {
          "output_type": "execute_result",
          "data": {
            "text/plain": [
              "5796"
            ]
          },
          "metadata": {
            "tags": []
          },
          "execution_count": 19
        }
      ]
    },
    {
      "cell_type": "code",
      "metadata": {
        "colab": {
          "base_uri": "https://localhost:8080/",
          "height": 873
        },
        "id": "ZZXCWatz9NpU",
        "outputId": "8c173c51-891b-4c88-9b8d-c24d72dc3085"
      },
      "source": [
        "#let's explore the categorical features by our target variable\n",
        "fig, axs = plt.subplots(4, figsize=(15,12))\n",
        "\n",
        "axs[0].set_title('Countplot of creation_source by users_adoption')\n",
        "sns.countplot(data=d_cleaned, x='creation_source', hue='adopted', ax=axs[0])\n",
        "\n",
        "axs[1].set_title('Countplot of opted_in_to_mailing by users_adoption')\n",
        "sns.countplot(data=d_cleaned, x='opted_in_to_mailing_list', hue='adopted', ax=axs[1])\n",
        "\n",
        "axs[2].set_title('Countplot of enabled_for_marketing_drip by users_adoption')\n",
        "sns.countplot(data=d_cleaned, x='enabled_for_marketing_drip', hue='adopted', ax=axs[2])\n",
        "\n",
        "axs[3].set_title('Countplot of opted_to_mailing_list by users-adoption')\n",
        "sns.countplot(data=d_cleaned, x='opted_in_to_mailing_list', hue='adopted', ax=axs[3])\n",
        "\n",
        "plt.tight_layout()"
      ],
      "execution_count": 20,
      "outputs": [
        {
          "output_type": "display_data",
          "data": {
            "image/png": "[encoded data removed]",
            "text/plain": [
              "<Figure size 1080x864 with 4 Axes>"
            ]
          },
          "metadata": {
            "tags": [],
            "needs_background": "light"
          }
        }
      ]
    },
    {
      "cell_type": "code",
      "metadata": {
        "colab": {
          "base_uri": "https://localhost:8080/",
          "height": 395
        },
        "id": "WQyPmR4K9NjB",
        "outputId": "62136109-d6e1-447d-de95-52340e4c9eb5"
      },
      "source": [
        "#Let's explore some numerical data\n",
        "\n",
        "plt.figure(figsize=(8,6))\n",
        "sns.boxenplot(data=d_cleaned, y='history')\n",
        "plt.title('Boxplot of history(in days) of users ')"
      ],
      "execution_count": 21,
      "outputs": [
        {
          "output_type": "execute_result",
          "data": {
            "text/plain": [
              "Text(0.5, 1.0, 'Boxplot of history(in days) of users ')"
            ]
          },
          "metadata": {
            "tags": []
          },
          "execution_count": 21
        },
        {
          "output_type": "display_data",
          "data": {
            "image/png": "[encoded data removed]",
            "text/plain": [
              "<Figure size 576x432 with 1 Axes>"
            ]
          },
          "metadata": {
            "tags": [],
            "needs_background": "light"
          }
        }
      ]
    },
    {
      "cell_type": "code",
      "metadata": {
        "colab": {
          "base_uri": "https://localhost:8080/",
          "height": 465
        },
        "id": "U-0nqmyn9NgQ",
        "outputId": "d90e3b1b-76ab-49d0-a600-0cb16e9eeb52"
      },
      "source": [
        "#org_id with most users (top 20)\n",
        "plt.figure(figsize=(9,7))\n",
        "d_cleaned['org_id'].value_counts().sort_values(ascending=False).head(20).plot(kind='bar')\n",
        "plt.title('Top 20 bar plot of org_id with most users')"
      ],
      "execution_count": 22,
      "outputs": [
        {
          "output_type": "execute_result",
          "data": {
            "text/plain": [
              "Text(0.5, 1.0, 'Top 20 bar plot of org_id with most users')"
            ]
          },
          "metadata": {
            "tags": []
          },
          "execution_count": 22
        },
        {
          "output_type": "display_data",
          "data": {
            "image/png": "[encoded data removed]",
            "text/plain": [
              "<Figure size 648x504 with 1 Axes>"
            ]
          },
          "metadata": {
            "tags": [],
            "needs_background": "light"
          }
        }
      ]
    },
    {
      "cell_type": "code",
      "metadata": {
        "colab": {
          "base_uri": "https://localhost:8080/",
          "height": 80
        },
        "id": "-cybzr0x9Ndn",
        "outputId": "4e30bf54-2ead-4554-d7ac-91fe6e95b8ff"
      },
      "source": [
        "#users with the most invites\n",
        "\n",
        "d_cleaned['invited_by_user_id'].value_counts().sort_values(ascending=False).head(20).to_frame().T"
      ],
      "execution_count": 23,
      "outputs": [
        {
          "output_type": "execute_result",
          "data": {
            "text/html": [
              "<div>\n",
              "<style scoped>\n",
              "    .dataframe tbody tr th:only-of-type {\n",
              "        vertical-align: middle;\n",
              "    }\n",
              "\n",
              "    .dataframe tbody tr th {\n",
              "        vertical-align: top;\n",
              "    }\n",
              "\n",
              "    .dataframe thead th {\n",
              "        text-align: right;\n",
              "    }\n",
              "</style>\n",
              "<table border=\"1\" class=\"dataframe\">\n",
              "  <thead>\n",
              "    <tr style=\"text-align: right;\">\n",
              "      <th></th>\n",
              "      <th>0.0</th>\n",
              "      <th>4612.0</th>\n",
              "      <th>2308.0</th>\n",
              "      <th>11770.0</th>\n",
              "      <th>6808.0</th>\n",
              "      <th>10741.0</th>\n",
              "      <th>3721.0</th>\n",
              "      <th>3261.0</th>\n",
              "      <th>2527.0</th>\n",
              "      <th>4302.0</th>\n",
              "      <th>10628.0</th>\n",
              "      <th>6706.0</th>\n",
              "      <th>4803.0</th>\n",
              "      <th>2354.0</th>\n",
              "      <th>1525.0</th>\n",
              "      <th>730.0</th>\n",
              "      <th>8870.0</th>\n",
              "      <th>6445.0</th>\n",
              "      <th>2771.0</th>\n",
              "      <th>10119.0</th>\n",
              "    </tr>\n",
              "  </thead>\n",
              "  <tbody>\n",
              "    <tr>\n",
              "      <th>invited_by_user_id</th>\n",
              "      <td>4047</td>\n",
              "      <td>10</td>\n",
              "      <td>9</td>\n",
              "      <td>9</td>\n",
              "      <td>8</td>\n",
              "      <td>8</td>\n",
              "      <td>8</td>\n",
              "      <td>8</td>\n",
              "      <td>8</td>\n",
              "      <td>8</td>\n",
              "      <td>8</td>\n",
              "      <td>8</td>\n",
              "      <td>8</td>\n",
              "      <td>8</td>\n",
              "      <td>8</td>\n",
              "      <td>8</td>\n",
              "      <td>7</td>\n",
              "      <td>7</td>\n",
              "      <td>7</td>\n",
              "      <td>7</td>\n",
              "    </tr>\n",
              "  </tbody>\n",
              "</table>\n",
              "</div>"
            ],
            "text/plain": [
              "                    0.0      4612.0   2308.0   ...  6445.0   2771.0   10119.0\n",
              "invited_by_user_id     4047       10        9  ...        7        7        7\n",
              "\n",
              "[1 rows x 20 columns]"
            ]
          },
          "metadata": {
            "tags": []
          },
          "execution_count": 23
        }
      ]
    },
    {
      "cell_type": "markdown",
      "metadata": {
        "id": "hvIFKOAHU-YZ"
      },
      "source": [
        "Note that the above user_id == 0 are total number of people not invited by any user\n",
        "<br>\n",
        "<br>\n",
        "**Next, Which features are most important at predicting future user adoption?**\n",
        "In an attempt to answer question, let's build a model to predict 'adopted' feature based of our data"
      ]
    },
    {
      "cell_type": "code",
      "metadata": {
        "id": "0Ea3ZbG29NZs"
      },
      "source": [
        "#create dummy variables for our categorical data\n",
        "d_final = pd.get_dummies(data=d_cleaned, columns=['creation_source'])"
      ],
      "execution_count": 24,
      "outputs": []
    },
    {
      "cell_type": "code",
      "metadata": {
        "id": "6X71kyEH9NXN"
      },
      "source": [
        "#Split data into target feature and independent variables\n",
        "X = d_final.drop(['object_id', 'adopted'], axis=1)\n",
        "y = d_final.adopted"
      ],
      "execution_count": 25,
      "outputs": []
    },
    {
      "cell_type": "code",
      "metadata": {
        "colab": {
          "base_uri": "https://localhost:8080/"
        },
        "id": "PVnLk8r29NU-",
        "outputId": "b6c4aff2-8b94-43dc-c11f-15b0908f2375"
      },
      "source": [
        "#Import an ensemble model and train\n",
        "from sklearn.model_selection import train_test_split\n",
        "from sklearn.ensemble import RandomForestClassifier\n",
        "\n",
        "X_train, X_test, y_train, y_test = train_test_split(X, y, test_size=0.3, stratify=y, random_state=42)\n",
        "\n",
        "rf_mod = RandomForestClassifier(n_estimators=20)\n",
        "rf_mod.fit(X_train, y_train)"
      ],
      "execution_count": 26,
      "outputs": [
        {
          "output_type": "execute_result",
          "data": {
            "text/plain": [
              "RandomForestClassifier(bootstrap=True, ccp_alpha=0.0, class_weight=None,\n",
              "                       criterion='gini', max_depth=None, max_features='auto',\n",
              "                       max_leaf_nodes=None, max_samples=None,\n",
              "                       min_impurity_decrease=0.0, min_impurity_split=None,\n",
              "                       min_samples_leaf=1, min_samples_split=2,\n",
              "                       min_weight_fraction_leaf=0.0, n_estimators=20,\n",
              "                       n_jobs=None, oob_score=False, random_state=None,\n",
              "                       verbose=0, warm_start=False)"
            ]
          },
          "metadata": {
            "tags": []
          },
          "execution_count": 26
        }
      ]
    },
    {
      "cell_type": "code",
      "metadata": {
        "colab": {
          "base_uri": "https://localhost:8080/"
        },
        "id": "3X1VGLMm9NSs",
        "outputId": "3ca9788b-889e-470f-b183-2bf5cc9b426f"
      },
      "source": [
        "#Check to ensure no overfitting\n",
        "rf_mod.score(X_train, y_train)"
      ],
      "execution_count": 27,
      "outputs": [
        {
          "output_type": "execute_result",
          "data": {
            "text/plain": [
              "0.9990284974093264"
            ]
          },
          "metadata": {
            "tags": []
          },
          "execution_count": 27
        }
      ]
    },
    {
      "cell_type": "code",
      "metadata": {
        "colab": {
          "base_uri": "https://localhost:8080/"
        },
        "id": "oENeeV_P9NQo",
        "outputId": "37615138-49ce-469a-c0e2-2b195d18c386"
      },
      "source": [
        "#predict and evaluate\n",
        "from sklearn.metrics import classification_report\n",
        "\n",
        "y_pred = rf_mod.predict(X_test)\n",
        "print('accuracy score is: ',rf_mod.score(X_test, y_test))\n",
        "print(classification_report(y_test, y_pred))"
      ],
      "execution_count": 28,
      "outputs": [
        {
          "output_type": "stream",
          "text": [
            "accuracy score is:  0.9656214582546279\n",
            "              precision    recall  f1-score   support\n",
            "\n",
            "           0       0.97      0.99      0.98      2150\n",
            "           1       0.93      0.88      0.91       497\n",
            "\n",
            "    accuracy                           0.97      2647\n",
            "   macro avg       0.95      0.93      0.94      2647\n",
            "weighted avg       0.97      0.97      0.97      2647\n",
            "\n"
          ],
          "name": "stdout"
        }
      ]
    },
    {
      "cell_type": "code",
      "metadata": {
        "colab": {
          "base_uri": "https://localhost:8080/",
          "height": 358
        },
        "id": "qecBHIbE9NLm",
        "outputId": "c492fdaa-98cd-4494-dd7c-ec6fe871eaa2"
      },
      "source": [
        "#Lets obtain the feature importance in predicting adoption and sort in descending order\n",
        "\n",
        "feat_imp = pd.DataFrame(rf_mod.feature_importances_, X.columns)\n",
        "feat_imp.columns = [ 'Importance_Score']\n",
        "feat_imp.sort_values('Importance_Score', ascending=False)"
      ],
      "execution_count": 29,
      "outputs": [
        {
          "output_type": "execute_result",
          "data": {
            "text/html": [
              "<div>\n",
              "<style scoped>\n",
              "    .dataframe tbody tr th:only-of-type {\n",
              "        vertical-align: middle;\n",
              "    }\n",
              "\n",
              "    .dataframe tbody tr th {\n",
              "        vertical-align: top;\n",
              "    }\n",
              "\n",
              "    .dataframe thead th {\n",
              "        text-align: right;\n",
              "    }\n",
              "</style>\n",
              "<table border=\"1\" class=\"dataframe\">\n",
              "  <thead>\n",
              "    <tr style=\"text-align: right;\">\n",
              "      <th></th>\n",
              "      <th>Importance_Score</th>\n",
              "    </tr>\n",
              "  </thead>\n",
              "  <tbody>\n",
              "    <tr>\n",
              "      <th>history</th>\n",
              "      <td>0.873032</td>\n",
              "    </tr>\n",
              "    <tr>\n",
              "      <th>org_id</th>\n",
              "      <td>0.068822</td>\n",
              "    </tr>\n",
              "    <tr>\n",
              "      <th>invited_by_user_id</th>\n",
              "      <td>0.036708</td>\n",
              "    </tr>\n",
              "    <tr>\n",
              "      <th>opted_in_to_mailing_list</th>\n",
              "      <td>0.006058</td>\n",
              "    </tr>\n",
              "    <tr>\n",
              "      <th>enabled_for_marketing_drip</th>\n",
              "      <td>0.003329</td>\n",
              "    </tr>\n",
              "    <tr>\n",
              "      <th>creation_source_SIGNUP</th>\n",
              "      <td>0.002878</td>\n",
              "    </tr>\n",
              "    <tr>\n",
              "      <th>creation_source_GUEST_INVITE</th>\n",
              "      <td>0.002698</td>\n",
              "    </tr>\n",
              "    <tr>\n",
              "      <th>creation_source_ORG_INVITE</th>\n",
              "      <td>0.002690</td>\n",
              "    </tr>\n",
              "    <tr>\n",
              "      <th>creation_source_SIGNUP_GOOGLE_AUTH</th>\n",
              "      <td>0.001900</td>\n",
              "    </tr>\n",
              "    <tr>\n",
              "      <th>creation_source_PERSONAL_PROJECTS</th>\n",
              "      <td>0.001884</td>\n",
              "    </tr>\n",
              "  </tbody>\n",
              "</table>\n",
              "</div>"
            ],
            "text/plain": [
              "                                    Importance_Score\n",
              "history                                     0.873032\n",
              "org_id                                      0.068822\n",
              "invited_by_user_id                          0.036708\n",
              "opted_in_to_mailing_list                    0.006058\n",
              "enabled_for_marketing_drip                  0.003329\n",
              "creation_source_SIGNUP                      0.002878\n",
              "creation_source_GUEST_INVITE                0.002698\n",
              "creation_source_ORG_INVITE                  0.002690\n",
              "creation_source_SIGNUP_GOOGLE_AUTH          0.001900\n",
              "creation_source_PERSONAL_PROJECTS           0.001884"
            ]
          },
          "metadata": {
            "tags": []
          },
          "execution_count": 29
        }
      ]
    },
    {
      "cell_type": "code",
      "metadata": {
        "id": "ItvIoA76OGyW"
      },
      "source": [
        ""
      ],
      "execution_count": 29,
      "outputs": []
    },
    {
      "cell_type": "markdown",
      "metadata": {
        "id": "1Fuwo6FppYWZ"
      },
      "source": [
        "**Takeaway**\n",
        "\n",
        "* The feature **user_history** is the most important feature to predicting adoption. \n",
        "Thus, the best approach to user adoption is to encourage existing user to remain and use the apps, probably by incentives.<br>\n",
        "Future work could be done on what incentives works best. \n",
        "\n",
        "* The next two important fearures are **org_id** and **invited_by_user_id**. In other words users are more likely to be adopted users if they belong to certain org_id and if a user invited them. Thus, to get more users adoption, encourage referal incentives, and targeted organizations referals incentives. Again future work could be done to determine what kind of incentives works best.\n",
        "\n",
        "* Other feature such as **opted_for_mailing_list, enabled_for_marketing_drip, creation_source ** have negligible importance to predicting users_adoption in our work.\n",
        "\n"
      ]
    }
  ]
}